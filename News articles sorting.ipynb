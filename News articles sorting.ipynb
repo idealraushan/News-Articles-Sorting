{
 "cells": [
  {
   "cell_type": "code",
   "execution_count": 1,
   "id": "7aeefaaa",
   "metadata": {},
   "outputs": [],
   "source": [
    "import pandas as pd\n",
    "import numpy as np\n",
    "import seaborn as sns\n",
    "import matplotlib.pyplot as plt"
   ]
  },
  {
   "cell_type": "code",
   "execution_count": 2,
   "id": "e504efc3",
   "metadata": {},
   "outputs": [],
   "source": [
    "from tqdm import tqdm\n",
    "tqdm.pandas()"
   ]
  },
  {
   "cell_type": "markdown",
   "id": "53da7755",
   "metadata": {},
   "source": [
    "# Getting Data"
   ]
  },
  {
   "cell_type": "code",
   "execution_count": 3,
   "id": "5511c749",
   "metadata": {},
   "outputs": [
    {
     "data": {
      "text/html": [
       "<div>\n",
       "<style scoped>\n",
       "    .dataframe tbody tr th:only-of-type {\n",
       "        vertical-align: middle;\n",
       "    }\n",
       "\n",
       "    .dataframe tbody tr th {\n",
       "        vertical-align: top;\n",
       "    }\n",
       "\n",
       "    .dataframe thead th {\n",
       "        text-align: right;\n",
       "    }\n",
       "</style>\n",
       "<table border=\"1\" class=\"dataframe\">\n",
       "  <thead>\n",
       "    <tr style=\"text-align: right;\">\n",
       "      <th></th>\n",
       "      <th>ArticleId</th>\n",
       "      <th>Text</th>\n",
       "      <th>Category</th>\n",
       "    </tr>\n",
       "  </thead>\n",
       "  <tbody>\n",
       "    <tr>\n",
       "      <th>0</th>\n",
       "      <td>1833</td>\n",
       "      <td>worldcom ex-boss launches defence lawyers defe...</td>\n",
       "      <td>business</td>\n",
       "    </tr>\n",
       "    <tr>\n",
       "      <th>1</th>\n",
       "      <td>154</td>\n",
       "      <td>german business confidence slides german busin...</td>\n",
       "      <td>business</td>\n",
       "    </tr>\n",
       "    <tr>\n",
       "      <th>2</th>\n",
       "      <td>1101</td>\n",
       "      <td>bbc poll indicates economic gloom citizens in ...</td>\n",
       "      <td>business</td>\n",
       "    </tr>\n",
       "    <tr>\n",
       "      <th>3</th>\n",
       "      <td>1976</td>\n",
       "      <td>lifestyle  governs mobile choice  faster  bett...</td>\n",
       "      <td>tech</td>\n",
       "    </tr>\n",
       "    <tr>\n",
       "      <th>4</th>\n",
       "      <td>917</td>\n",
       "      <td>enron bosses in $168m payout eighteen former e...</td>\n",
       "      <td>business</td>\n",
       "    </tr>\n",
       "  </tbody>\n",
       "</table>\n",
       "</div>"
      ],
      "text/plain": [
       "   ArticleId                                               Text  Category\n",
       "0       1833  worldcom ex-boss launches defence lawyers defe...  business\n",
       "1        154  german business confidence slides german busin...  business\n",
       "2       1101  bbc poll indicates economic gloom citizens in ...  business\n",
       "3       1976  lifestyle  governs mobile choice  faster  bett...      tech\n",
       "4        917  enron bosses in $168m payout eighteen former e...  business"
      ]
     },
     "execution_count": 3,
     "metadata": {},
     "output_type": "execute_result"
    }
   ],
   "source": [
    "# Import data\n",
    "\n",
    "Data = pd.read_csv(\"C:\\\\Users\\\\hp\\OneDrive\\\\Desktop\\\\Project\\\\BBC News Train.csv\")\n",
    "Data.head()"
   ]
  },
  {
   "cell_type": "code",
   "execution_count": 4,
   "id": "b7bc2d7a",
   "metadata": {},
   "outputs": [
    {
     "data": {
      "text/plain": [
       "(1490, 3)"
      ]
     },
     "execution_count": 4,
     "metadata": {},
     "output_type": "execute_result"
    }
   ],
   "source": [
    "# Shape of the data\n",
    "Data.shape"
   ]
  },
  {
   "cell_type": "code",
   "execution_count": 5,
   "id": "4bbdd3b7",
   "metadata": {},
   "outputs": [
    {
     "data": {
      "text/plain": [
       "ArticleId    0\n",
       "Text         0\n",
       "Category     0\n",
       "dtype: int64"
      ]
     },
     "execution_count": 5,
     "metadata": {},
     "output_type": "execute_result"
    }
   ],
   "source": [
    "# Checking for Null Values\n",
    "Data.isnull().sum()"
   ]
  },
  {
   "cell_type": "code",
   "execution_count": 6,
   "id": "e9eea953",
   "metadata": {},
   "outputs": [],
   "source": [
    "# Drop a un-necessary column\n",
    "Data.drop(columns=[\"ArticleId\"], inplace=True)"
   ]
  },
  {
   "cell_type": "code",
   "execution_count": 7,
   "id": "019c55df",
   "metadata": {},
   "outputs": [
    {
     "data": {
      "text/html": [
       "<div>\n",
       "<style scoped>\n",
       "    .dataframe tbody tr th:only-of-type {\n",
       "        vertical-align: middle;\n",
       "    }\n",
       "\n",
       "    .dataframe tbody tr th {\n",
       "        vertical-align: top;\n",
       "    }\n",
       "\n",
       "    .dataframe thead th {\n",
       "        text-align: right;\n",
       "    }\n",
       "</style>\n",
       "<table border=\"1\" class=\"dataframe\">\n",
       "  <thead>\n",
       "    <tr style=\"text-align: right;\">\n",
       "      <th></th>\n",
       "      <th>Text</th>\n",
       "      <th>Category</th>\n",
       "    </tr>\n",
       "  </thead>\n",
       "  <tbody>\n",
       "    <tr>\n",
       "      <th>0</th>\n",
       "      <td>worldcom ex-boss launches defence lawyers defe...</td>\n",
       "      <td>business</td>\n",
       "    </tr>\n",
       "    <tr>\n",
       "      <th>1</th>\n",
       "      <td>german business confidence slides german busin...</td>\n",
       "      <td>business</td>\n",
       "    </tr>\n",
       "    <tr>\n",
       "      <th>2</th>\n",
       "      <td>bbc poll indicates economic gloom citizens in ...</td>\n",
       "      <td>business</td>\n",
       "    </tr>\n",
       "    <tr>\n",
       "      <th>3</th>\n",
       "      <td>lifestyle  governs mobile choice  faster  bett...</td>\n",
       "      <td>tech</td>\n",
       "    </tr>\n",
       "    <tr>\n",
       "      <th>4</th>\n",
       "      <td>enron bosses in $168m payout eighteen former e...</td>\n",
       "      <td>business</td>\n",
       "    </tr>\n",
       "  </tbody>\n",
       "</table>\n",
       "</div>"
      ],
      "text/plain": [
       "                                                Text  Category\n",
       "0  worldcom ex-boss launches defence lawyers defe...  business\n",
       "1  german business confidence slides german busin...  business\n",
       "2  bbc poll indicates economic gloom citizens in ...  business\n",
       "3  lifestyle  governs mobile choice  faster  bett...      tech\n",
       "4  enron bosses in $168m payout eighteen former e...  business"
      ]
     },
     "execution_count": 7,
     "metadata": {},
     "output_type": "execute_result"
    }
   ],
   "source": [
    "Data.head()"
   ]
  },
  {
   "cell_type": "code",
   "execution_count": 8,
   "id": "6b4f4d47",
   "metadata": {},
   "outputs": [],
   "source": [
    "X = Data.Text\n",
    "y = Data.Category"
   ]
  },
  {
   "cell_type": "code",
   "execution_count": 9,
   "id": "d1367c71",
   "metadata": {},
   "outputs": [
    {
     "data": {
      "text/plain": [
       "117     profits jump at china s top bank industrial an...\n",
       "405     ten-year tragedy of missing manic richey edwar...\n",
       "699     rocker doherty in on-stage fight rock singer p...\n",
       "281     digital guru floats sub-$100 pc nicholas negro...\n",
       "396     be careful how you code a new european directi...\n",
       "1343    borders 19-20 ulster ulster clung on for a mor...\n",
       "1263    gronkjaer agrees switch to madrid jesper gronk...\n",
       "873     eu software patent law delayed controversial n...\n",
       "75      china aviation seeks rescue deal scandal-hit j...\n",
       "129     shares rise on new man utd offer shares in man...\n",
       "Name: Text, dtype: object"
      ]
     },
     "execution_count": 9,
     "metadata": {},
     "output_type": "execute_result"
    }
   ],
   "source": [
    "Data.Text.sample(10)"
   ]
  },
  {
   "cell_type": "code",
   "execution_count": 10,
   "id": "10edfef3",
   "metadata": {
    "scrolled": true
   },
   "outputs": [
    {
     "name": "stdout",
     "output_type": "stream",
     "text": [
      "<class 'pandas.core.frame.DataFrame'>\n",
      "RangeIndex: 1490 entries, 0 to 1489\n",
      "Data columns (total 2 columns):\n",
      " #   Column    Non-Null Count  Dtype \n",
      "---  ------    --------------  ----- \n",
      " 0   Text      1490 non-null   object\n",
      " 1   Category  1490 non-null   object\n",
      "dtypes: object(2)\n",
      "memory usage: 23.4+ KB\n"
     ]
    }
   ],
   "source": [
    "# information of the data\n",
    "Data.info()"
   ]
  },
  {
   "cell_type": "code",
   "execution_count": 11,
   "id": "08098974",
   "metadata": {},
   "outputs": [
    {
     "data": {
      "image/png": "[encoded data removed]",
      "text/plain": [
       "<Figure size 432x288 with 1 Axes>"
      ]
     },
     "metadata": {
      "needs_background": "light"
     },
     "output_type": "display_data"
    }
   ],
   "source": [
    "sns.countplot(data=Data, x='Category')\n",
    "plt.show()"
   ]
  },
  {
   "cell_type": "markdown",
   "id": "a55924e2",
   "metadata": {},
   "source": [
    "# Pre-Processing"
   ]
  },
  {
   "cell_type": "code",
   "execution_count": 12,
   "id": "b675d3b2",
   "metadata": {},
   "outputs": [
    {
     "name": "stderr",
     "output_type": "stream",
     "text": [
      "[nltk_data] Downloading package stopwords to\n",
      "[nltk_data]     C:\\Users\\hp\\AppData\\Roaming\\nltk_data...\n",
      "[nltk_data]   Package stopwords is already up-to-date!\n"
     ]
    }
   ],
   "source": [
    "import re\n",
    "from bs4 import BeautifulSoup\n",
    "import string\n",
    "import wordninja as wn\n",
    "from nltk.stem import WordNetLemmatizer\n",
    "from textblob import TextBlob\n",
    "import string\n",
    "import nltk \n",
    "nltk.download('stopwords') \n",
    "from nltk.corpus import stopwords\n",
    "allstopwords = stopwords.words('english')\n",
    "\n",
    "def preprocessing(sentence):\n",
    "    # make smallercase\n",
    "    sentence = sentence.lower()\n",
    "\n",
    "    # remove emails\n",
    "    sentence = re.sub(r\"([a-zA-Z0-9_.+-]+@[a-zA-Z0-9-]+\\.[a-zA-Z0-9-.]+$)\", '', sentence)\n",
    "\n",
    "    # remove mentions\n",
    "    sentence = re.sub(r\"@[A-Za-z0-9]+\",\"\", sentence)\n",
    "\n",
    "    # Remove html\n",
    "    sentence = BeautifulSoup(sentence, 'lxml').get_text().strip()\n",
    "\n",
    "    # Remove URL\n",
    "    sentence = re.sub(r'https?://\\S+|www\\.\\S+', '', sentence)\n",
    "\n",
    "    # Removing punctutation\n",
    "    sentence = sentence.translate(str.maketrans('', '', string.punctuation))\n",
    "\n",
    "    # Remove non-alphabetic characters\n",
    "    sentence = re.sub(r'[^a-zA-Z ]', '', sentence)\n",
    "\n",
    "    # Spliting words into two meaningful word\n",
    "#     sentence = ' '.join(wn.split(str(sentence)))\n",
    "\n",
    "    # Correct the sentence\n",
    "#     sentence =  str(TextBlob(sentence).correct())\n",
    "\n",
    "    # decontracted\n",
    "\n",
    "    ## specific\n",
    "    sentence = re.sub(r\"wont\", \"will not\", sentence)\n",
    "    sentence = re.sub(r\"wouldnt\", \"would not\", sentence)\n",
    "    sentence = re.sub(r\"shouldnt\", \"should not\", sentence)\n",
    "    sentence = re.sub(r\"couldnt\", \"could not\", sentence)\n",
    "    sentence = re.sub(r\"cudnt\", \"could not\", sentence)\n",
    "    sentence = re.sub(r\"cant\", \"can not\", sentence)\n",
    "    sentence = re.sub(r\"dont\", \"do not\", sentence)\n",
    "    sentence = re.sub(r\"doesnt\", \"does not\", sentence)\n",
    "    sentence = re.sub(r\"didnt\", \"did not\", sentence)\n",
    "    sentence = re.sub(r\"wasnt\", \"was not\", sentence)\n",
    "    sentence = re.sub(r\"werent\", \"were not\", sentence)\n",
    "    sentence = re.sub(r\"havent\", \"have not\", sentence)\n",
    "    sentence = re.sub(r\"hadnt\", \"had not\", sentence)\n",
    "\n",
    "    ## general\n",
    "    sentence = re.sub(r\"n\\ t\", \" not\", sentence)\n",
    "    #sentence = re.sub(r\"\\re\", \" are\", sentence)\n",
    "    sentence = re.sub(r\"\\ s \", \" is \", sentence) \n",
    "    sentence = re.sub(r\"\\ d \", \" would \", sentence)\n",
    "    sentence = re.sub(r\"\\ ll \", \" will \", sentence)\n",
    "    sentence = re.sub(r\"\\dunno\", \"do not \", sentence)\n",
    "    sentence = re.sub(r\"ive \", \"i have \", sentence)\n",
    "    sentence = re.sub(r\"im \", \"i am \", sentence)\n",
    "    sentence = re.sub(r\"i m \", \"i am \", sentence)\n",
    "    sentence = re.sub(r\" w \", \" with \", sentence)\n",
    "    \n",
    "    # Punctuation Removal\n",
    "    sentence = \"\".join(i for i in sentence if i not in string.punctuation)\n",
    "    \n",
    "    # Stop Word Removal\n",
    "    sentence = \" \".join(i for i in sentence.split() if i not in allstopwords)\n",
    "\n",
    "\n",
    "    # Lemmatize\n",
    "    lm = WordNetLemmatizer()\n",
    "    snt = ' '.join([lm.lemmatize(i) for i in sentence.split()])\n",
    "    return snt"
   ]
  },
  {
   "cell_type": "code",
   "execution_count": 13,
   "id": "9abb09ef",
   "metadata": {},
   "outputs": [
    {
     "name": "stderr",
     "output_type": "stream",
     "text": [
      "[nltk_data] Downloading package wordnet to\n",
      "[nltk_data]     C:\\Users\\hp\\AppData\\Roaming\\nltk_data...\n",
      "[nltk_data]   Package wordnet is already up-to-date!\n"
     ]
    },
    {
     "data": {
      "text/plain": [
       "True"
      ]
     },
     "execution_count": 13,
     "metadata": {},
     "output_type": "execute_result"
    }
   ],
   "source": [
    "import nltk\n",
    "nltk.download('wordnet')\n",
    "  "
   ]
  },
  {
   "cell_type": "code",
   "execution_count": 14,
   "id": "0d35a054",
   "metadata": {},
   "outputs": [
    {
     "name": "stderr",
     "output_type": "stream",
     "text": [
      "[nltk_data] Downloading package omw-1.4 to\n",
      "[nltk_data]     C:\\Users\\hp\\AppData\\Roaming\\nltk_data...\n",
      "[nltk_data]   Package omw-1.4 is already up-to-date!\n"
     ]
    },
    {
     "data": {
      "text/plain": [
       "True"
      ]
     },
     "execution_count": 14,
     "metadata": {},
     "output_type": "execute_result"
    }
   ],
   "source": [
    "import nltk\n",
    "nltk.download('omw-1.4')"
   ]
  },
  {
   "cell_type": "code",
   "execution_count": 15,
   "id": "477be58b",
   "metadata": {},
   "outputs": [
    {
     "name": "stderr",
     "output_type": "stream",
     "text": [
      "100%|█████████████████████████████████████████████████████████████████████████████| 1490/1490 [00:10<00:00, 141.84it/s]\n"
     ]
    }
   ],
   "source": [
    "Data[\"Tokens\"] = Data.Text.progress_apply(lambda x: preprocessing(x)) "
   ]
  },
  {
   "cell_type": "code",
   "execution_count": 16,
   "id": "70eb6e9a",
   "metadata": {},
   "outputs": [
    {
     "data": {
      "text/html": [
       "<div>\n",
       "<style scoped>\n",
       "    .dataframe tbody tr th:only-of-type {\n",
       "        vertical-align: middle;\n",
       "    }\n",
       "\n",
       "    .dataframe tbody tr th {\n",
       "        vertical-align: top;\n",
       "    }\n",
       "\n",
       "    .dataframe thead th {\n",
       "        text-align: right;\n",
       "    }\n",
       "</style>\n",
       "<table border=\"1\" class=\"dataframe\">\n",
       "  <thead>\n",
       "    <tr style=\"text-align: right;\">\n",
       "      <th></th>\n",
       "      <th>Text</th>\n",
       "      <th>Category</th>\n",
       "      <th>Tokens</th>\n",
       "    </tr>\n",
       "  </thead>\n",
       "  <tbody>\n",
       "    <tr>\n",
       "      <th>0</th>\n",
       "      <td>worldcom ex-boss launches defence lawyers defe...</td>\n",
       "      <td>business</td>\n",
       "      <td>worldcom exboss launch defence lawyer defendin...</td>\n",
       "    </tr>\n",
       "    <tr>\n",
       "      <th>1</th>\n",
       "      <td>german business confidence slides german busin...</td>\n",
       "      <td>business</td>\n",
       "      <td>german business confidence slide german busine...</td>\n",
       "    </tr>\n",
       "    <tr>\n",
       "      <th>2</th>\n",
       "      <td>bbc poll indicates economic gloom citizens in ...</td>\n",
       "      <td>business</td>\n",
       "      <td>bbc poll indicates economic gloom citizen majo...</td>\n",
       "    </tr>\n",
       "    <tr>\n",
       "      <th>3</th>\n",
       "      <td>lifestyle  governs mobile choice  faster  bett...</td>\n",
       "      <td>tech</td>\n",
       "      <td>lifestyle governs mobile choice faster better ...</td>\n",
       "    </tr>\n",
       "    <tr>\n",
       "      <th>4</th>\n",
       "      <td>enron bosses in $168m payout eighteen former e...</td>\n",
       "      <td>business</td>\n",
       "      <td>enron boss payout eighteen former enron direct...</td>\n",
       "    </tr>\n",
       "  </tbody>\n",
       "</table>\n",
       "</div>"
      ],
      "text/plain": [
       "                                                Text  Category  \\\n",
       "0  worldcom ex-boss launches defence lawyers defe...  business   \n",
       "1  german business confidence slides german busin...  business   \n",
       "2  bbc poll indicates economic gloom citizens in ...  business   \n",
       "3  lifestyle  governs mobile choice  faster  bett...      tech   \n",
       "4  enron bosses in $168m payout eighteen former e...  business   \n",
       "\n",
       "                                              Tokens  \n",
       "0  worldcom exboss launch defence lawyer defendin...  \n",
       "1  german business confidence slide german busine...  \n",
       "2  bbc poll indicates economic gloom citizen majo...  \n",
       "3  lifestyle governs mobile choice faster better ...  \n",
       "4  enron boss payout eighteen former enron direct...  "
      ]
     },
     "execution_count": 16,
     "metadata": {},
     "output_type": "execute_result"
    }
   ],
   "source": [
    "Data.head()"
   ]
  },
  {
   "cell_type": "markdown",
   "id": "57242057",
   "metadata": {},
   "source": [
    "# Feature Engineering"
   ]
  },
  {
   "cell_type": "markdown",
   "id": "5e44941d",
   "metadata": {},
   "source": [
    "# 1. Bag of Words model"
   ]
  },
  {
   "cell_type": "markdown",
   "id": "c7c4086d",
   "metadata": {},
   "source": [
    "# 2. TF-IDF Model"
   ]
  },
  {
   "cell_type": "code",
   "execution_count": 17,
   "id": "b676f667",
   "metadata": {},
   "outputs": [
    {
     "data": {
      "text/html": [
       "<div>\n",
       "<style scoped>\n",
       "    .dataframe tbody tr th:only-of-type {\n",
       "        vertical-align: middle;\n",
       "    }\n",
       "\n",
       "    .dataframe tbody tr th {\n",
       "        vertical-align: top;\n",
       "    }\n",
       "\n",
       "    .dataframe thead th {\n",
       "        text-align: right;\n",
       "    }\n",
       "</style>\n",
       "<table border=\"1\" class=\"dataframe\">\n",
       "  <thead>\n",
       "    <tr style=\"text-align: right;\">\n",
       "      <th></th>\n",
       "      <th>aa</th>\n",
       "      <th>aaa</th>\n",
       "      <th>aac</th>\n",
       "      <th>aadc</th>\n",
       "      <th>aaliyah</th>\n",
       "      <th>aaltra</th>\n",
       "      <th>aamir</th>\n",
       "      <th>aaron</th>\n",
       "      <th>aashare</th>\n",
       "      <th>ab</th>\n",
       "      <th>...</th>\n",
       "      <th>zombie</th>\n",
       "      <th>zone</th>\n",
       "      <th>zonealarm</th>\n",
       "      <th>zoom</th>\n",
       "      <th>zooropa</th>\n",
       "      <th>zorro</th>\n",
       "      <th>zuluaga</th>\n",
       "      <th>zurich</th>\n",
       "      <th>zutons</th>\n",
       "      <th>zvonareva</th>\n",
       "    </tr>\n",
       "  </thead>\n",
       "  <tbody>\n",
       "    <tr>\n",
       "      <th>0</th>\n",
       "      <td>0.0</td>\n",
       "      <td>0.0</td>\n",
       "      <td>0.0</td>\n",
       "      <td>0.0</td>\n",
       "      <td>0.0</td>\n",
       "      <td>0.0</td>\n",
       "      <td>0.0</td>\n",
       "      <td>0.0</td>\n",
       "      <td>0.0</td>\n",
       "      <td>0.0</td>\n",
       "      <td>...</td>\n",
       "      <td>0.0</td>\n",
       "      <td>0.0</td>\n",
       "      <td>0.0</td>\n",
       "      <td>0.0</td>\n",
       "      <td>0.0</td>\n",
       "      <td>0.0</td>\n",
       "      <td>0.0</td>\n",
       "      <td>0.0</td>\n",
       "      <td>0.0</td>\n",
       "      <td>0.0</td>\n",
       "    </tr>\n",
       "    <tr>\n",
       "      <th>1</th>\n",
       "      <td>0.0</td>\n",
       "      <td>0.0</td>\n",
       "      <td>0.0</td>\n",
       "      <td>0.0</td>\n",
       "      <td>0.0</td>\n",
       "      <td>0.0</td>\n",
       "      <td>0.0</td>\n",
       "      <td>0.0</td>\n",
       "      <td>0.0</td>\n",
       "      <td>0.0</td>\n",
       "      <td>...</td>\n",
       "      <td>0.0</td>\n",
       "      <td>0.0</td>\n",
       "      <td>0.0</td>\n",
       "      <td>0.0</td>\n",
       "      <td>0.0</td>\n",
       "      <td>0.0</td>\n",
       "      <td>0.0</td>\n",
       "      <td>0.0</td>\n",
       "      <td>0.0</td>\n",
       "      <td>0.0</td>\n",
       "    </tr>\n",
       "    <tr>\n",
       "      <th>2</th>\n",
       "      <td>0.0</td>\n",
       "      <td>0.0</td>\n",
       "      <td>0.0</td>\n",
       "      <td>0.0</td>\n",
       "      <td>0.0</td>\n",
       "      <td>0.0</td>\n",
       "      <td>0.0</td>\n",
       "      <td>0.0</td>\n",
       "      <td>0.0</td>\n",
       "      <td>0.0</td>\n",
       "      <td>...</td>\n",
       "      <td>0.0</td>\n",
       "      <td>0.0</td>\n",
       "      <td>0.0</td>\n",
       "      <td>0.0</td>\n",
       "      <td>0.0</td>\n",
       "      <td>0.0</td>\n",
       "      <td>0.0</td>\n",
       "      <td>0.0</td>\n",
       "      <td>0.0</td>\n",
       "      <td>0.0</td>\n",
       "    </tr>\n",
       "    <tr>\n",
       "      <th>3</th>\n",
       "      <td>0.0</td>\n",
       "      <td>0.0</td>\n",
       "      <td>0.0</td>\n",
       "      <td>0.0</td>\n",
       "      <td>0.0</td>\n",
       "      <td>0.0</td>\n",
       "      <td>0.0</td>\n",
       "      <td>0.0</td>\n",
       "      <td>0.0</td>\n",
       "      <td>0.0</td>\n",
       "      <td>...</td>\n",
       "      <td>0.0</td>\n",
       "      <td>0.0</td>\n",
       "      <td>0.0</td>\n",
       "      <td>0.0</td>\n",
       "      <td>0.0</td>\n",
       "      <td>0.0</td>\n",
       "      <td>0.0</td>\n",
       "      <td>0.0</td>\n",
       "      <td>0.0</td>\n",
       "      <td>0.0</td>\n",
       "    </tr>\n",
       "    <tr>\n",
       "      <th>4</th>\n",
       "      <td>0.0</td>\n",
       "      <td>0.0</td>\n",
       "      <td>0.0</td>\n",
       "      <td>0.0</td>\n",
       "      <td>0.0</td>\n",
       "      <td>0.0</td>\n",
       "      <td>0.0</td>\n",
       "      <td>0.0</td>\n",
       "      <td>0.0</td>\n",
       "      <td>0.0</td>\n",
       "      <td>...</td>\n",
       "      <td>0.0</td>\n",
       "      <td>0.0</td>\n",
       "      <td>0.0</td>\n",
       "      <td>0.0</td>\n",
       "      <td>0.0</td>\n",
       "      <td>0.0</td>\n",
       "      <td>0.0</td>\n",
       "      <td>0.0</td>\n",
       "      <td>0.0</td>\n",
       "      <td>0.0</td>\n",
       "    </tr>\n",
       "  </tbody>\n",
       "</table>\n",
       "<p>5 rows × 23434 columns</p>\n",
       "</div>"
      ],
      "text/plain": [
       "    aa  aaa  aac  aadc  aaliyah  aaltra  aamir  aaron  aashare   ab  ...  \\\n",
       "0  0.0  0.0  0.0   0.0      0.0     0.0    0.0    0.0      0.0  0.0  ...   \n",
       "1  0.0  0.0  0.0   0.0      0.0     0.0    0.0    0.0      0.0  0.0  ...   \n",
       "2  0.0  0.0  0.0   0.0      0.0     0.0    0.0    0.0      0.0  0.0  ...   \n",
       "3  0.0  0.0  0.0   0.0      0.0     0.0    0.0    0.0      0.0  0.0  ...   \n",
       "4  0.0  0.0  0.0   0.0      0.0     0.0    0.0    0.0      0.0  0.0  ...   \n",
       "\n",
       "   zombie  zone  zonealarm  zoom  zooropa  zorro  zuluaga  zurich  zutons  \\\n",
       "0     0.0   0.0        0.0   0.0      0.0    0.0      0.0     0.0     0.0   \n",
       "1     0.0   0.0        0.0   0.0      0.0    0.0      0.0     0.0     0.0   \n",
       "2     0.0   0.0        0.0   0.0      0.0    0.0      0.0     0.0     0.0   \n",
       "3     0.0   0.0        0.0   0.0      0.0    0.0      0.0     0.0     0.0   \n",
       "4     0.0   0.0        0.0   0.0      0.0    0.0      0.0     0.0     0.0   \n",
       "\n",
       "   zvonareva  \n",
       "0        0.0  \n",
       "1        0.0  \n",
       "2        0.0  \n",
       "3        0.0  \n",
       "4        0.0  \n",
       "\n",
       "[5 rows x 23434 columns]"
      ]
     },
     "execution_count": 17,
     "metadata": {},
     "output_type": "execute_result"
    }
   ],
   "source": [
    "from sklearn.feature_extraction.text import TfidfVectorizer\n",
    "from nltk.tokenize import RegexpTokenizer\n",
    "\n",
    "token = RegexpTokenizer(r'[a-zA-Z0-9]+')\n",
    "\n",
    "TfIdf_Vectorizer = TfidfVectorizer(tokenizer = token.tokenize)\n",
    "\n",
    "X = TfIdf_Vectorizer.fit_transform(Data.Tokens)\n",
    "\n",
    "X_array = X.toarray()\n",
    "\n",
    "pd.DataFrame(data=X_array, columns = TfIdf_Vectorizer.get_feature_names_out()).head()"
   ]
  },
  {
   "cell_type": "markdown",
   "id": "ee09865e",
   "metadata": {},
   "source": [
    "# Detect Category"
   ]
  },
  {
   "cell_type": "code",
   "execution_count": 18,
   "id": "77cd5151",
   "metadata": {},
   "outputs": [],
   "source": [
    "import re\n",
    "from bs4 import BeautifulSoup\n",
    "import string\n",
    "from nltk.stem import WordNetLemmatizer\n",
    "\n",
    "def detect_catagory(model, sentence):\n",
    "\n",
    "    # make smallercase\n",
    "    sentence = sentence.lower()\n",
    "        \n",
    "    # remove emails\n",
    "    sentence = re.sub(r\"([a-zA-Z0-9_.+-]+@[a-zA-Z0-9-]+\\.[a-zA-Z0-9-.]+$)\", '', sentence)\n",
    "\n",
    "    # remove mentions\n",
    "    sentence = re.sub(r\"@[A-Za-z0-9]+\",\"\", sentence)\n",
    "    \n",
    "    # Remove html\n",
    "    sentence = BeautifulSoup(sentence, 'lxml').get_text().strip()\n",
    "    \n",
    "    # Remove URL\n",
    "    sentence = re.sub(r'https?://\\S+|www\\.\\S+', '', sentence)\n",
    "        \n",
    "    # Removing punctutation, string.punctuation in python consists of !\"#$%&\\'()*+,-./:;<=>?@[\\\\]^_\n",
    "    sentence = sentence.translate(str.maketrans('', '', string.punctuation))\n",
    "    \n",
    "    # Remove non-alphabetic characters\n",
    "    sentence = re.sub(r'[^a-zA-Z ]', '', sentence)\n",
    "\n",
    "    # Spliting words into two meaningful word\n",
    "    sentence = ' '.join(wn.split(str(sentence)))\n",
    "\n",
    "    # Correct the sentence\n",
    "    sentence =  str(TextBlob(sentence).correct())\n",
    "    \n",
    "    # decontracted\n",
    "    \n",
    "    ## specific\n",
    "    sentence = re.sub(r\"wont\", \"will not\", sentence)\n",
    "    sentence = re.sub(r\"wouldnt\", \"would not\", sentence)\n",
    "    sentence = re.sub(r\"shouldnt\", \"should not\", sentence)\n",
    "    sentence = re.sub(r\"couldnt\", \"could not\", sentence)\n",
    "    sentence = re.sub(r\"cudnt\", \"could not\", sentence)\n",
    "    sentence = re.sub(r\"cant\", \"can not\", sentence)\n",
    "    sentence = re.sub(r\"dont\", \"do not\", sentence)\n",
    "    sentence = re.sub(r\"doesnt\", \"does not\", sentence)\n",
    "    sentence = re.sub(r\"didnt\", \"did not\", sentence)\n",
    "    sentence = re.sub(r\"wasnt\", \"was not\", sentence)\n",
    "    sentence = re.sub(r\"werent\", \"were not\", sentence)\n",
    "    sentence = re.sub(r\"havent\", \"have not\", sentence)\n",
    "    sentence = re.sub(r\"hadnt\", \"had not\", sentence)\n",
    "\n",
    "    ## general\n",
    "    sentence = re.sub(r\"n\\ t\", \" not\", sentence)\n",
    "    #sentence = re.sub(r\"\\re\", \" are\", sentence)\n",
    "    sentence = re.sub(r\"\\ s \", \" is \", sentence) \n",
    "    sentence = re.sub(r\"\\ d \", \" would \", sentence)\n",
    "    sentence = re.sub(r\"\\ ll \", \" will \", sentence)\n",
    "    sentence = re.sub(r\"\\dunno\", \"do not \", sentence)\n",
    "    sentence = re.sub(r\"ive \", \"i have \", sentence)\n",
    "    sentence = re.sub(r\"im \", \"i am \", sentence)\n",
    "    sentence = re.sub(r\"i m \", \"i am \", sentence)\n",
    "    sentence = re.sub(r\" w \", \" with \", sentence)\n",
    "\n",
    "\n",
    "    # Lemmatize\n",
    "    lm = WordNetLemmatizer()\n",
    "    snt = ' '.join([lm.lemmatize(i) for i in sentence.split()])\n",
    "    \n",
    "    return model.predict(TfIdf_Vectorizer.transform([snt]))[0]"
   ]
  },
  {
   "cell_type": "markdown",
   "id": "26c11568",
   "metadata": {},
   "source": [
    "# Getting weight of a word"
   ]
  },
  {
   "cell_type": "code",
   "execution_count": 19,
   "id": "518f554b",
   "metadata": {},
   "outputs": [],
   "source": [
    "def get_weight(model, word):\n",
    "    try:\n",
    "        print(model.coef_[0][list(TfIdf_Vectorizer.get_feature_names_out()).index(word)])\n",
    "    except IndexError:\n",
    "        print(model.coef_.toarray()[0][list(TfIdf_Vectorizer.get_feature_names_out()).index(word)])\n",
    "    except ValueError:\n",
    "        pass"
   ]
  },
  {
   "cell_type": "markdown",
   "id": "eb916239",
   "metadata": {},
   "source": [
    "# Model Building"
   ]
  },
  {
   "cell_type": "code",
   "execution_count": 20,
   "id": "bf11c5f3",
   "metadata": {},
   "outputs": [],
   "source": [
    "from sklearn.model_selection import train_test_split\n",
    "from sklearn.model_selection import cross_val_score\n",
    "from sklearn.metrics import classification_report, confusion_matrix, accuracy_score"
   ]
  },
  {
   "cell_type": "code",
   "execution_count": 21,
   "id": "f3fc9f82",
   "metadata": {},
   "outputs": [],
   "source": [
    " X_train, X_test, y_train, y_test = train_test_split(X,y, test_size=.33, random_state=40)"
   ]
  },
  {
   "cell_type": "markdown",
   "id": "15d6b347",
   "metadata": {},
   "source": [
    "# Logistic Regression"
   ]
  },
  {
   "cell_type": "code",
   "execution_count": 22,
   "id": "702ea853",
   "metadata": {},
   "outputs": [
    {
     "data": {
      "text/plain": [
       "0.9691275167785234"
      ]
     },
     "execution_count": 22,
     "metadata": {},
     "output_type": "execute_result"
    }
   ],
   "source": [
    "from sklearn.linear_model import LogisticRegression\n",
    "\n",
    "# Check Cross Validation Score\n",
    "\n",
    "clf = LogisticRegression(random_state=42, max_iter=1000)\n",
    "np.average(cross_val_score(clf, X, y, cv=10))"
   ]
  },
  {
   "cell_type": "code",
   "execution_count": 23,
   "id": "7ed59bc9",
   "metadata": {},
   "outputs": [
    {
     "data": {
      "text/plain": [
       "LogisticRegression(max_iter=1000, random_state=42)"
      ]
     },
     "execution_count": 23,
     "metadata": {},
     "output_type": "execute_result"
    }
   ],
   "source": [
    "# Model Building\n",
    "clf.fit(X_train, y_train)"
   ]
  },
  {
   "cell_type": "code",
   "execution_count": 24,
   "id": "dd788ce7",
   "metadata": {},
   "outputs": [],
   "source": [
    "from sklearn.metrics import classification_report, confusion_matrix\n",
    "\n",
    "y_pred = clf.predict(X_test)"
   ]
  },
  {
   "cell_type": "code",
   "execution_count": 25,
   "id": "f8409b3b",
   "metadata": {},
   "outputs": [
    {
     "name": "stdout",
     "output_type": "stream",
     "text": [
      "               precision    recall  f1-score   support\n",
      "\n",
      "     business       0.96      0.99      0.98       107\n",
      "entertainment       0.98      0.99      0.98        95\n",
      "     politics       0.99      0.98      0.98        85\n",
      "        sport       0.97      0.99      0.98       110\n",
      "         tech       1.00      0.95      0.97        95\n",
      "\n",
      "     accuracy                           0.98       492\n",
      "    macro avg       0.98      0.98      0.98       492\n",
      " weighted avg       0.98      0.98      0.98       492\n",
      "\n"
     ]
    }
   ],
   "source": [
    "print(classification_report(y_test, y_pred))"
   ]
  },
  {
   "cell_type": "code",
   "execution_count": 26,
   "id": "2f224356",
   "metadata": {},
   "outputs": [
    {
     "data": {
      "image/png": "[encoded data removed]",
      "text/plain": [
       "<Figure size 432x288 with 2 Axes>"
      ]
     },
     "metadata": {
      "needs_background": "light"
     },
     "output_type": "display_data"
    }
   ],
   "source": [
    "def plot_matrix(y_test, y_pred, color=\"Blues\"):\n",
    "    labels = np.unique(y_pred)\n",
    "    cm_df = pd.DataFrame(confusion_matrix(y_test, y_pred), index=labels, columns=labels)\n",
    "    sns.heatmap(cm_df, annot=True, fmt='g', cmap=color)\n",
    "    plt.xlabel(\"Actual\")\n",
    "    plt.ylabel(\"Predicted\")\n",
    "    plt.show()\n",
    "plot_matrix(y_test, y_pred)"
   ]
  },
  {
   "cell_type": "markdown",
   "id": "3acda899",
   "metadata": {},
   "source": [
    "# Random Forest Classifier"
   ]
  },
  {
   "cell_type": "code",
   "execution_count": 27,
   "id": "1e1dab4c",
   "metadata": {},
   "outputs": [
    {
     "name": "stdout",
     "output_type": "stream",
     "text": [
      "Accuracy : 0.975609756097561\n"
     ]
    },
    {
     "data": {
      "image/png": "[encoded data removed]",
      "text/plain": [
       "<Figure size 432x288 with 2 Axes>"
      ]
     },
     "metadata": {
      "needs_background": "light"
     },
     "output_type": "display_data"
    }
   ],
   "source": [
    "from sklearn.ensemble import RandomForestClassifier\n",
    "\n",
    "rfc = RandomForestClassifier(max_depth=100, random_state=80)\n",
    "\n",
    "rfc.fit(X_train, y_train)\n",
    "y_predicted = rfc.predict(X_test)\n",
    "print(\"Accuracy :\",accuracy_score(y_test, y_predicted))\n",
    "plot_matrix(y_test, y_predicted)"
   ]
  },
  {
   "cell_type": "code",
   "execution_count": 33,
   "id": "b89d8d5c",
   "metadata": {},
   "outputs": [
    {
     "name": "stdout",
     "output_type": "stream",
     "text": [
      "               precision    recall  f1-score   support\n",
      "\n",
      "     business       0.95      0.99      0.97       107\n",
      "entertainment       0.97      0.98      0.97        95\n",
      "     politics       0.99      0.96      0.98        85\n",
      "        sport       0.99      1.00      1.00       110\n",
      "         tech       0.99      0.94      0.96        95\n",
      "\n",
      "     accuracy                           0.98       492\n",
      "    macro avg       0.98      0.97      0.98       492\n",
      " weighted avg       0.98      0.98      0.98       492\n",
      "\n"
     ]
    }
   ],
   "source": [
    "from sklearn.metrics import classification_report, confusion_matrix\n",
    "\n",
    "y_predi = rfc.predict(X_test)\n",
    "print(classification_report(y_test, y_predi))"
   ]
  },
  {
   "cell_type": "markdown",
   "id": "2ed45bcd",
   "metadata": {},
   "source": [
    "# Enter Article"
   ]
  },
  {
   "cell_type": "code",
   "execution_count": 29,
   "id": "33d721b8",
   "metadata": {},
   "outputs": [],
   "source": [
    "article = \"\"\"After weeks of speculation, Ranveer Singh has finally been announced as the star of the upcoming Don 3. He takes over from Shah Rukh Khan, who played the titular role in two Don movies, released in 2006 and 2011, respectively. The character was originally played by Amitabh Bachchan in the 1978 hit Don.\n",
    "\n",
    "Excel Entertainment made the announcement via a video shared online. The video opens with a man sitting on the floor of a large room overlooking the neon-lit skyline of an unnamed city. The skyline itself appears to be a composite of multiple cities. The character slowly rises to his feet, takes off his hood, and lights a cigarette.\n",
    "\n",
    "Also read | Ranveer Singh says performing Kathak for Rocky Aur Rani was challenging because of all the ‘muscle mass’ he was packing\n",
    "The whole time, he is narrating an ominous voiceover in Hindi. “Sher jo so raha hai woh jaagega kab? Poochte hain yeh sab. Unse keh do ki phir jaag utha hoon main, aur phir saamne jald aane ko (When will the sleeping lion wake up? Everybody wants to know. Tell them, I am here).”\"\"\""
   ]
  },
  {
   "cell_type": "code",
   "execution_count": 30,
   "id": "cfb634ae",
   "metadata": {},
   "outputs": [
    {
     "name": "stdout",
     "output_type": "stream",
     "text": [
      "Detect category :  sport\n"
     ]
    }
   ],
   "source": [
    "print(\"Detect category : \" , detect_catagory(clf, article))"
   ]
  },
  {
   "cell_type": "code",
   "execution_count": 31,
   "id": "6ebda19f",
   "metadata": {},
   "outputs": [
    {
     "name": "stdout",
     "output_type": "stream",
     "text": [
      "-0.05634771899789506\n"
     ]
    }
   ],
   "source": [
    "get_weight(clf, \"interesting\")"
   ]
  },
  {
   "cell_type": "code",
   "execution_count": 32,
   "id": "9c6f2605",
   "metadata": {},
   "outputs": [
    {
     "name": "stderr",
     "output_type": "stream",
     "text": [
      "C:\\Users\\hp\\anaconda3\\lib\\site-packages\\gradio\\inputs.py:27: UserWarning: Usage of gradio.inputs is deprecated, and will not be supported in the future, please import your component from gradio.components\n",
      "  warnings.warn(\n",
      "C:\\Users\\hp\\anaconda3\\lib\\site-packages\\gradio\\deprecation.py:40: UserWarning: `optional` parameter is deprecated, and it has no effect\n",
      "  warnings.warn(value)\n",
      "C:\\Users\\hp\\anaconda3\\lib\\site-packages\\gradio\\deprecation.py:40: UserWarning: `numeric` parameter is deprecated, and it has no effect\n",
      "  warnings.warn(value)\n",
      "C:\\Users\\hp\\anaconda3\\lib\\site-packages\\gradio\\blocks.py:636: UserWarning: Cannot load huggingface. Caught Exception: The space huggingface does not exist\n",
      "  warnings.warn(f\"Cannot load {theme}. Caught Exception: {str(e)}\")\n"
     ]
    },
    {
     "name": "stdout",
     "output_type": "stream",
     "text": [
      "Running on local URL:  http://127.0.0.1:7860\n",
      "\n",
      "To create a public link, set `share=True` in `launch()`.\n"
     ]
    },
    {
     "data": {
      "text/html": [
       "<div><iframe src=\"http://127.0.0.1:7860/\" width=\"100%\" height=\"500\" allow=\"autoplay; camera; microphone; clipboard-read; clipboard-write;\" frameborder=\"0\" allowfullscreen></iframe></div>"
      ],
      "text/plain": [
       "<IPython.core.display.HTML object>"
      ]
     },
     "metadata": {},
     "output_type": "display_data"
    },
    {
     "data": {
      "text/plain": []
     },
     "execution_count": 32,
     "metadata": {},
     "output_type": "execute_result"
    }
   ],
   "source": [
    "import gradio as gr\n",
    "\n",
    "# Assuming detect_category and clf have been defined elsewhere...\n",
    "\n",
    "def gui_interface(article):\n",
    "    category = detect_catagory(clf, article)\n",
    "    return category\n",
    "\n",
    "# Gradio interface\n",
    "iface = gr.Interface(\n",
    "    fn=gui_interface,                    \n",
    "    inputs=gr.inputs.Textbox(placeholder=\"Enter your article here...\"),  # Add a placeholder\n",
    "    outputs=\"text\",\n",
    "    live=True,                           \n",
    "    title=\"Article Category Detection\", # Add a title\n",
    "    description=\"Input an article and get its predicted category in real-time!\",  # Add a description\n",
    "    theme=\"huggingface\",  # Using a predefined theme\n",
    "    examples=[                           # Add some example articles for users to try\n",
    "        [\"Tech companies are at the forefront of innovation.\"],\n",
    "        [\"Recent sports events have garnered much attention.\"]\n",
    "    ]\n",
    ")\n",
    "\n",
    "iface.launch()\n"
   ]
  },
  {
   "cell_type": "code",
   "execution_count": null,
   "id": "9f3f3b1b",
   "metadata": {},
   "outputs": [],
   "source": []
  }
 ],
 "metadata": {
  "kernelspec": {
   "display_name": "Python 3 (ipykernel)",
   "language": "python",
   "name": "python3"
  },
  "language_info": {
   "codemirror_mode": {
    "name": "ipython",
    "version": 3
   },
   "file_extension": ".py",
   "mimetype": "text/x-python",
   "name": "python",
   "nbconvert_exporter": "python",
   "pygments_lexer": "ipython3",
   "version": "3.9.12"
  }
 },
 "nbformat": 4,
 "nbformat_minor": 5
}
